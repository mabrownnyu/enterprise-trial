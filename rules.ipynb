{
 "cells": [
  {
   "cell_type": "markdown",
   "metadata": {},
   "source": [
    "# Powertrack Rules API"
   ]
  },
  {
   "cell_type": "markdown",
   "metadata": {},
   "source": [
    "The following is a wrapper to create rules and submit them to rules api endpoint\n",
    "The rules are in the the document rules.txt "
   ]
  },
  {
   "cell_type": "code",
   "execution_count": 1,
   "metadata": {},
   "outputs": [],
   "source": [
    "import requests\n",
    "import json \n",
    "import os "
   ]
  },
  {
   "cell_type": "markdown",
   "metadata": {},
   "source": [
    "#### RULES BUILDER AND SUBMISSION CODE"
   ]
  },
  {
   "cell_type": "code",
   "execution_count": 2,
   "metadata": {},
   "outputs": [],
   "source": [
    "def build_rules(filePath):\n",
    "    \"\"\"\n",
    "        Takes a rule string and optional tag and turns it into a \"built_rule\" that looks like:\n",
    "        { \"value\": \"rule string\", \"tag\": \"my tag\" }\n",
    "    \"\"\"\n",
    "    rules = {\"rules\":[]}\n",
    "    #rules = {\"rules\": [{\"value\": \"rule1\", \"tag\": \"tag1\"}]}\n",
    "    with open(filePath) as f:\n",
    "        for line in f:\n",
    "            rule_str,tag = line.split('|')\n",
    "            #print(tag.strip())\n",
    "            rule = {\"value\": rule_str }\n",
    "            if tag:\n",
    "                rule[\"tag\"] = tag.strip()\n",
    "            rules[\"rules\"].append(json.dumps(rule))\n",
    "    \n",
    "    return rules\n",
    "\n",
    "def add_rules(filePath,endpoint):\n",
    "    # The json param in the request sets the Content-Type in the header to 'application/json'\n",
    "    rules = build_rules(filePath)\n",
    "    response = requests.post(url=endpoint, auth=(USERNAME, PASSWORD), json=rules)\n",
    "\n",
    "    return response"
   ]
  },
  {
   "cell_type": "markdown",
   "metadata": {},
   "source": [
    "#### CREDENTIALS AND ENDPOINT URL'S"
   ]
  },
  {
   "cell_type": "code",
   "execution_count": 31,
   "metadata": {},
   "outputs": [],
   "source": [
    "USERNAME = \"\" # account access user name\n",
    "PASSWORD =\"\"  # account access password \n",
    "ACCOUNT_NAME = \"\" # assigned account name\n",
    "STREAM_LABEL = \"dev\" # account assigned project name \n",
    "rule_endpoint = \"https://data-api.twitter.com/rules/powertrack/accounts/\"\n",
    "endpoint =f\"{post_domain}{ACCOUNT_NAME}/publishers/twitter/{STREAM_LABEL}.json\""
   ]
  },
  {
   "cell_type": "markdown",
   "metadata": {},
   "source": [
    "#### RULES INPUT AND SUBMISSION"
   ]
  },
  {
   "cell_type": "code",
   "execution_count": 32,
   "metadata": {},
   "outputs": [
    {
     "data": {
      "text/plain": [
       "<Response [422]>"
      ]
     },
     "execution_count": 32,
     "metadata": {},
     "output_type": "execute_result"
    }
   ],
   "source": [
    "filePath='rules.txt'\n",
    "if not os.path.exists(filePath):\n",
    "     raise FileNotFoundError\n",
    "add_rules(filePath, endpoint)"
   ]
  },
  {
   "cell_type": "code",
   "execution_count": 35,
   "metadata": {},
   "outputs": [
    {
     "data": {
      "text/plain": [
       "{'rules': ['{\"value\": \"(\\'Donald Trump\\' OR #AnyoneButTrump2020 OR #MAGA OR #KAG OR #NeverTrump OR #PromisesKept OR #MakeAmericaGreatAgain OR #KeepAmericaGreat) sample:5\", \"tag\": \"Donald Trump\"}',\n",
       "  '{\"value\": \"(\\\\u201cElizabeth Warren\\' OR #TeamWarren OR #Warren2020) sample:5\", \"tag\": \"Elizabeth Warren\"}',\n",
       "  '{\"value\": \"(\\'Pete Buttigieg\\' OR #Buttigieg2020 OR #TeamPete OR #MayorPete OR #Pete2020) sample:5\", \"tag\": \"Pete Buttigieg\"}',\n",
       "  '{\"value\": \"(\\'Joe Biden\\' OR #Biden2020) sample:5\", \"tag\": \"Joe Biden\"}',\n",
       "  '{\"value\": \"(\\'Bernie Sanders\\' OR #Bernie2020 OR #IStandWithBernie OR #NotMeUs) sample:5\", \"tag\": \"Bernie Sanders\"}',\n",
       "  '{\"value\": \"(#IowaCaucus OR #NHPrimary OR #SuperTuesday OR \\'General Election\\' OR #2020Election OR #PresidentialElection OR \\'Presidential election\\') sample:5\", \"tag\": \"Primaries\"}',\n",
       "  '{\"value\": \"(#Democrats OR #Republicans OR #Resistance OR #BlueWave OR #BlueWave2020) sample:5\", \"tag\": \"Party Keywords\"}',\n",
       "  '{\"value\": \"(@realDonaldTrump OR @TrumpWarRoom OR @GOP OR @DNC OR @TheDemocrats OR @DNCWarRoom OR @ewarren OR @PeteButtigieg OR @JoeBiden OR @BernieSanders) sample:5\", \"tag\": \"Accounts\"}']}"
      ]
     },
     "execution_count": 35,
     "metadata": {},
     "output_type": "execute_result"
    }
   ],
   "source": [
    "build_rules(filePath)   # RULES BULDER"
   ]
  }
 ],
 "metadata": {
  "kernelspec": {
   "display_name": "Python 3",
   "language": "python",
   "name": "python3"
  },
  "language_info": {
   "codemirror_mode": {
    "name": "ipython",
    "version": 3
   },
   "file_extension": ".py",
   "mimetype": "text/x-python",
   "name": "python",
   "nbconvert_exporter": "python",
   "pygments_lexer": "ipython3",
   "version": "3.7.5"
  }
 },
 "nbformat": 4,
 "nbformat_minor": 4
}
